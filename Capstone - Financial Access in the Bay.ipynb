{
 "cells": [
  {
   "cell_type": "markdown",
   "metadata": {},
   "source": [
    "# Capstone - Financial Access in the San Francisco Bay Area\n",
    "\n",
    "by Julian Darby"
   ]
  },
  {
   "cell_type": "markdown",
   "metadata": {},
   "source": [
    "# Introduction"
   ]
  },
  {
   "cell_type": "markdown",
   "metadata": {},
   "source": [
    "Throughout the IBM Data Science Professional Certification, a focus has been on applying data science to solving tangible business problems. In this capstone project, I am required to utilise the Foursquare API, one of the leading sources of venue and location information, for that purpose.\n",
    "\n",
    "As a current MBA student at Berkeley Haas, an area of particular interest to me has been expanding financial access, primarily through the development of financial technology (or 'fintech'). However for many Americans physical locations, such as bank branches, remain an important facet of their financial interactions, even in the heart of technology: the San Francisco Bay Area. Further, access to financial services remains uneven, and likely affected by demographic composition of communities. This provides an interesting opportunity to leverage Foursquare data, to inform stakeholders of the current state of physical financial access in the Bay Area. \n",
    "\n",
    "In this project, I have combined data from disparate sources to gather insights on the distribution and characteristics of financial locations. This information would be useful for the executives of a financial services company, for example to identify under-served communities within the Bay Area.\n",
    "\n",
    "Coronavirus has provided a fascinating lens through which to view a project like this too. While, there has been a trend towards online banking as a result (American Banker, 2020) there is no certainty whether this will persist following the relaxation of stay-in-place restrictions. However, if consumers continue to trend towards using online services then it can be expected that some physical locations may need to close over the coming years. The insights gathered from this report could be useful in informing decisions as to which locations should be prioritised for continued operation."
   ]
  },
  {
   "cell_type": "markdown",
   "metadata": {},
   "source": [
    "# Data"
   ]
  },
  {
   "cell_type": "markdown",
   "metadata": {},
   "source": [
    "The data for this project has primarily been sourced from the following locations:\n",
    "\n",
    "1. sfgov.org\n",
    "2. census.gov\n",
    "3. foursquare.com\n",
    "\n",
    "The website sfgov.org contains information on the ZIP codes contained within the Bay Area, as well the geometric data required for visualisation of these ZIP codes. The website census.gov contains the US Census data. Ideally, full Census data would be used to give the maximal richness of data possible. However, the decennial US Census does not have information available at the ZIP code level, so cannot be used for this purpose. An alternative, used in this project, is the American Community Survey, which has demographic information available at the ZIP Code Tabulation Area (ZCTA) level. These do not correspond perfectly to ZIP codes in every case, but cross-walks are available to help with checking the mapping from ZCTA to ZIP code.\n",
    "\n",
    "Finally, Foursquare has been used as a source of location and venue data. As the focus of this project is on financial access, the API was used to search for venues that are primarily categorised as financial (ATM, Bank, Cheque Checking Service, Credit Union, Currency Exchange, Financial or Legal Office, or Insurance Office). This data is combined with the American Community Survey to draw insights on the state of financial access in the San Francisco Bay Area.\n",
    "\n",
    "Please refer to the methodology section below for the application of these data sources."
   ]
  },
  {
   "cell_type": "markdown",
   "metadata": {},
   "source": [
    "# Methodology"
   ]
  },
  {
   "cell_type": "markdown",
   "metadata": {},
   "source": [
    "## Importing Libraries and Setting Global Options"
   ]
  },
  {
   "cell_type": "code",
   "execution_count": 1,
   "metadata": {},
   "outputs": [],
   "source": [
    "# installers for packages as required:\n",
    "# !pip install sodapy\n",
    "# !pip install geojson\n",
    "\n",
    "import pandas as pd\n",
    "from pandas.core.common import flatten\n",
    "from sodapy import Socrata\n",
    "import folium\n",
    "import json\n",
    "import geojson\n",
    "from geojson import Feature, Point, FeatureCollection, MultiPolygon, Polygon\n",
    "import numpy as np\n",
    "import requests\n",
    "\n",
    "pd.set_option('display.max_columns', None)\n",
    "pd.set_option('display.max_rows', None)"
   ]
  },
  {
   "cell_type": "markdown",
   "metadata": {},
   "source": [
    "## Defining the Geographic Boundaries of the Project"
   ]
  },
  {
   "cell_type": "markdown",
   "metadata": {},
   "source": [
    "Collect geojson data for Bay Area ZIP codes from data.sf.gov"
   ]
  },
  {
   "cell_type": "code",
   "execution_count": 2,
   "metadata": {},
   "outputs": [],
   "source": [
    "url_1 = \"https://data.sfgov.org/api/geospatial/u5j3-svi6?method=export&format=GeoJSON\"\n",
    "\n",
    "geojson_data = json.loads(requests.get(url_1).text)"
   ]
  },
  {
   "cell_type": "markdown",
   "metadata": {},
   "source": [
    "Collect Bay Area ZIP codes and city names from data.sf.gov"
   ]
  },
  {
   "cell_type": "code",
   "execution_count": 3,
   "metadata": {},
   "outputs": [
    {
     "name": "stderr",
     "output_type": "stream",
     "text": [
      "WARNING:root:Requests made without an app_token will be subject to strict throttling limits.\n"
     ]
    }
   ],
   "source": [
    "client = Socrata(\"data.sfgov.org\", None) # unauthenticated client (only works with public data sets)\n",
    "results = client.get(\"f9wk-m4qb\", limit = 2000) # getting Bay Area ZIP codes\n",
    "\n",
    "sfgov_df = pd.DataFrame.from_records(results) # convert to pandas dataframe\n",
    "sfgov_df = sfgov_df.astype({'zip':'int64','area':'float64'}) # change data-type of zip to integer and area to float"
   ]
  },
  {
   "cell_type": "markdown",
   "metadata": {},
   "source": [
    "Reorganize columns"
   ]
  },
  {
   "cell_type": "code",
   "execution_count": 4,
   "metadata": {},
   "outputs": [
    {
     "data": {
      "text/plain": [
       "187"
      ]
     },
     "execution_count": 4,
     "metadata": {},
     "output_type": "execute_result"
    }
   ],
   "source": [
    "ZIP_df = sfgov_df[['zip','po_name','area','the_geom']] # selecting three relevant columns\n",
    "ZIP_df.columns = ['ZIP_code','city_name','area','geometry'] # rename columns\n",
    "len(ZIP_df)"
   ]
  },
  {
   "cell_type": "markdown",
   "metadata": {},
   "source": [
    "Collect ZIP to ZCTA cross-walk from usdmapper.org. US census data uses ZCTA (ZIP Code Tabulation Areas) which can differ from ZIP Codes. A cross-walk is a data set that helps to reconcile these two different methodologies."
   ]
  },
  {
   "cell_type": "code",
   "execution_count": 5,
   "metadata": {},
   "outputs": [],
   "source": [
    "url_2 = \"https://www.udsmapper.org/docs/zip_to_zcta_2019.xlsx\"\n",
    "\n",
    "ZIP_to_ZCTA = pd.read_excel(url_2)\n",
    "\n",
    "ZIP_to_ZCTA = ZIP_to_ZCTA[ZIP_to_ZCTA['ZCTA'] != 'No ZCTA'] # drop 'No ZCTA' data from dataframe\n",
    "ZIP_to_ZCTA = ZIP_to_ZCTA.astype({'ZCTA':'int64'}) # change data-type of ZCTA to integer"
   ]
  },
  {
   "cell_type": "markdown",
   "metadata": {},
   "source": [
    "Conduct search for mis-matched ZIPs/ZCTAs from within the cross-walk data set. Important for no poor mapping to occur to allow use of the American Community Survey data."
   ]
  },
  {
   "cell_type": "code",
   "execution_count": 6,
   "metadata": {},
   "outputs": [
    {
     "name": "stdout",
     "output_type": "stream",
     "text": [
      "---------------------------------------------\n",
      "ZIP Code    ZCTA        Join type           \n",
      "---------------------------------------------\n",
      "94035       94043       Spatial join to ZCTA\n",
      "\n",
      "Matching ZIPs: 186\n",
      "Ill-defined ZIPs: 0\n"
     ]
    }
   ],
   "source": [
    "ZIP_match = 0 # initializing ZIP_match at zero\n",
    "ill_defined = 0 # initializing ill_defined at zero\n",
    "drop_ZIPs = [] # initalizing drop_ZIPs (i.e. ZIP Codes to drop)\n",
    "dash_1 = '-' * 45 \n",
    "table_format_1 = '{:<12}{:<12}{:<20s}'\n",
    "\n",
    "print(dash_1)\n",
    "print(table_format_1.format('ZIP Code','ZCTA','Join type'))\n",
    "print(dash_1)\n",
    "\n",
    "for ZIP in ZIP_df['ZIP_code']:\n",
    "    if list(ZIP_to_ZCTA.loc[(ZIP_to_ZCTA['ZIP_CODE'] == ZIP),'ZCTA'])[0] != ZIP: # if ZIP Code not equal to ZTCA:\n",
    "        ZCTA = list(ZIP_to_ZCTA.loc[(ZIP_to_ZCTA['ZIP_CODE'] == ZIP),'ZCTA'])[0]\n",
    "        explanation = list(ZIP_to_ZCTA.loc[(ZIP_to_ZCTA['ZIP_CODE'] == ZIP),'zip_join_type'])[0]\n",
    "        drop_ZIPs.append(ZIP)\n",
    "        print(table_format_1.format(ZIP,ZCTA,explanation))\n",
    "    \n",
    "    elif list(ZIP_to_ZCTA.loc[(ZIP_to_ZCTA['ZIP_CODE'] == ZIP),'zip_join_type'])[0] == \"Zip Matches ZCTA\":\n",
    "        # else if ZIP matches ZCTA:\n",
    "        ZIP_match = ZIP_match + 1\n",
    "        \n",
    "    else:\n",
    "        ill_defined = ill_defined + 1\n",
    "        \n",
    "print()\n",
    "print(\"Matching ZIPs: %i\" % ZIP_match) # matches being when ZIP Code = ZCTA\n",
    "print(\"Ill-defined ZIPs: %i\" % ill_defined) # ill-defined being anything missed by the for loop"
   ]
  },
  {
   "cell_type": "markdown",
   "metadata": {},
   "source": [
    "Drop mis-matched ZIPs from dataframe (in this instance, just ZIP code 94035 is mis-matched). Mis-matched in this context means that it is not a 1:1 mapping, rather than because of an error per se."
   ]
  },
  {
   "cell_type": "code",
   "execution_count": 7,
   "metadata": {
    "scrolled": true
   },
   "outputs": [
    {
     "data": {
      "text/html": [
       "<div>\n",
       "<style scoped>\n",
       "    .dataframe tbody tr th:only-of-type {\n",
       "        vertical-align: middle;\n",
       "    }\n",
       "\n",
       "    .dataframe tbody tr th {\n",
       "        vertical-align: top;\n",
       "    }\n",
       "\n",
       "    .dataframe thead th {\n",
       "        text-align: right;\n",
       "    }\n",
       "</style>\n",
       "<table border=\"1\" class=\"dataframe\">\n",
       "  <thead>\n",
       "    <tr style=\"text-align: right;\">\n",
       "      <th></th>\n",
       "      <th>ZIP_code</th>\n",
       "      <th>city_name</th>\n",
       "      <th>area</th>\n",
       "      <th>geometry</th>\n",
       "    </tr>\n",
       "  </thead>\n",
       "  <tbody>\n",
       "    <tr>\n",
       "      <th>0</th>\n",
       "      <td>94558</td>\n",
       "      <td>NAPA</td>\n",
       "      <td>1.231326e+10</td>\n",
       "      <td>{'type': 'MultiPolygon', 'coordinates': [[[[-1...</td>\n",
       "    </tr>\n",
       "    <tr>\n",
       "      <th>1</th>\n",
       "      <td>94533</td>\n",
       "      <td>FAIRFIELD</td>\n",
       "      <td>9.917861e+08</td>\n",
       "      <td>{'type': 'MultiPolygon', 'coordinates': [[[[-1...</td>\n",
       "    </tr>\n",
       "    <tr>\n",
       "      <th>2</th>\n",
       "      <td>95620</td>\n",
       "      <td>DIXON</td>\n",
       "      <td>7.236950e+09</td>\n",
       "      <td>{'type': 'MultiPolygon', 'coordinates': [[[[-1...</td>\n",
       "    </tr>\n",
       "    <tr>\n",
       "      <th>3</th>\n",
       "      <td>95476</td>\n",
       "      <td>SONOMA</td>\n",
       "      <td>3.001414e+09</td>\n",
       "      <td>{'type': 'MultiPolygon', 'coordinates': [[[[-1...</td>\n",
       "    </tr>\n",
       "    <tr>\n",
       "      <th>4</th>\n",
       "      <td>94559</td>\n",
       "      <td>NAPA</td>\n",
       "      <td>1.194302e+09</td>\n",
       "      <td>{'type': 'MultiPolygon', 'coordinates': [[[[-1...</td>\n",
       "    </tr>\n",
       "  </tbody>\n",
       "</table>\n",
       "</div>"
      ],
      "text/plain": [
       "   ZIP_code  city_name          area  \\\n",
       "0     94558       NAPA  1.231326e+10   \n",
       "1     94533  FAIRFIELD  9.917861e+08   \n",
       "2     95620      DIXON  7.236950e+09   \n",
       "3     95476     SONOMA  3.001414e+09   \n",
       "4     94559       NAPA  1.194302e+09   \n",
       "\n",
       "                                            geometry  \n",
       "0  {'type': 'MultiPolygon', 'coordinates': [[[[-1...  \n",
       "1  {'type': 'MultiPolygon', 'coordinates': [[[[-1...  \n",
       "2  {'type': 'MultiPolygon', 'coordinates': [[[[-1...  \n",
       "3  {'type': 'MultiPolygon', 'coordinates': [[[[-1...  \n",
       "4  {'type': 'MultiPolygon', 'coordinates': [[[[-1...  "
      ]
     },
     "execution_count": 7,
     "metadata": {},
     "output_type": "execute_result"
    }
   ],
   "source": [
    "bay_ZIPs = ZIP_df.set_index('ZIP_code') # set index to allow drop function to operate\n",
    "\n",
    "for ZIP in drop_ZIPs:\n",
    "    bay_ZIPs = bay_ZIPs.drop(ZIP,axis = 0)\n",
    "    \n",
    "bay_ZIPs.reset_index(inplace = True) # reset index after drop\n",
    "bay_ZIPs.head()"
   ]
  },
  {
   "cell_type": "markdown",
   "metadata": {},
   "source": [
    "Choose the boundaries of the geographic area under consideration. This can either be the full Bay Area ZIP code region, or a subset."
   ]
  },
  {
   "cell_type": "code",
   "execution_count": 8,
   "metadata": {},
   "outputs": [],
   "source": [
    "ZIP_coordinates = bay_ZIPs['geometry']\n",
    "\n",
    "all_coordinates = []\n",
    "\n",
    "for i, coordinates in enumerate(ZIP_coordinates):\n",
    "    all_coordinates.append(ZIP_coordinates[i]['coordinates'])\n",
    "    \n",
    "all_coordinates = list(flatten(all_coordinates)) # flattened list of coordinates in Bay Area geometry\n",
    "all_latitudes = all_coordinates[1::2] # all Bay Area latitudes in geometry\n",
    "all_longitudes = all_coordinates[0::2] # all Bay Area longitudes in geometry\n",
    "\n",
    "search_range_custom = True # choose between searching full Bay Area, or user-defined range\n",
    "custom_NE_corner = [38.232169,-121.929691] # user-defined NE corner\n",
    "custom_SW_corner = [37.303010,-122.522385] # user-defind SW corner\n",
    "\n",
    "if search_range_custom == True: # if True return user-defined boundaries, otherwise full Bay Area boundaries\n",
    "    max_latitude = custom_NE_corner[0]\n",
    "    min_latitude = custom_SW_corner[0]\n",
    "    max_longitude = custom_NE_corner[1]\n",
    "    min_longitude = custom_SW_corner[1]   \n",
    "\n",
    "else: \n",
    "    max_latitude = max(all_latitudes)\n",
    "    min_latitude = min(all_latitudes)\n",
    "    max_longitude = max(all_longitudes)\n",
    "    min_longitude = min(all_longitudes)"
   ]
  },
  {
   "cell_type": "markdown",
   "metadata": {},
   "source": [
    "Summary of the coordinates of the corners of the geographic boundary"
   ]
  },
  {
   "cell_type": "code",
   "execution_count": 9,
   "metadata": {},
   "outputs": [
    {
     "name": "stdout",
     "output_type": "stream",
     "text": [
      "---------------------------------------------\n",
      "Corner         Latitude       Longitude      \n",
      "---------------------------------------------\n",
      "NE             38.2322        -121.9297      \n",
      "SE             37.303         -121.9297      \n",
      "SW             37.303         -122.5224      \n",
      "NW             38.2322        -122.5224      \n"
     ]
    }
   ],
   "source": [
    "def accuracy(number):\n",
    "    return round(number,4)\n",
    "\n",
    "dash_2 = '-' * 45 \n",
    "table_format_2 = '{:<15}{:<15}{:<15}'\n",
    "\n",
    "print(dash_2)\n",
    "print(table_format_2.format('Corner','Latitude','Longitude'))\n",
    "print(dash_2)\n",
    "\n",
    "print(table_format_2.format('NE',accuracy(max_latitude),accuracy(max_longitude)))\n",
    "print(table_format_2.format('SE',accuracy(min_latitude),accuracy(max_longitude)))\n",
    "print(table_format_2.format('SW',accuracy(min_latitude),accuracy(min_longitude)))\n",
    "print(table_format_2.format('NW',accuracy(max_latitude),accuracy(min_longitude)))"
   ]
  },
  {
   "cell_type": "markdown",
   "metadata": {},
   "source": [
    "This geographic area is then sub-divided for visualisation later and to provide smaller search areas to the Foursquare API. The level of precision is set here."
   ]
  },
  {
   "cell_type": "code",
   "execution_count": 10,
   "metadata": {},
   "outputs": [
    {
     "name": "stdout",
     "output_type": "stream",
     "text": [
      "there are 400 sub-divisions in area\n"
     ]
    }
   ],
   "source": [
    "precision = 21 # set sub-divisions of overall area to do venue search over\n",
    "\n",
    "lat_linspace = np.linspace(min_latitude,max_latitude,precision) # sets interval latitudes\n",
    "long_linspace = np.linspace(min_longitude,max_longitude,precision) # sets interval longitudes\n",
    "\n",
    "print('there are %i sub-divisions in area' % (precision -1) ** 2) # gives total number of subdivisons"
   ]
  },
  {
   "cell_type": "markdown",
   "metadata": {},
   "source": [
    "Next, check to see how many ZIP codes are completely contained within the search grid. Note: this will be the same as the total ZIP codes if not using the user-defined boundaries (because the boundaries will be a function of the ZIP codes themselves)."
   ]
  },
  {
   "cell_type": "code",
   "execution_count": null,
   "metadata": {},
   "outputs": [],
   "source": []
  },
  {
   "cell_type": "code",
   "execution_count": null,
   "metadata": {},
   "outputs": [],
   "source": []
  },
  {
   "cell_type": "code",
   "execution_count": null,
   "metadata": {},
   "outputs": [],
   "source": []
  },
  {
   "cell_type": "code",
   "execution_count": null,
   "metadata": {},
   "outputs": [],
   "source": []
  },
  {
   "cell_type": "code",
   "execution_count": null,
   "metadata": {},
   "outputs": [],
   "source": []
  },
  {
   "cell_type": "code",
   "execution_count": null,
   "metadata": {},
   "outputs": [],
   "source": []
  },
  {
   "cell_type": "code",
   "execution_count": null,
   "metadata": {},
   "outputs": [],
   "source": []
  },
  {
   "cell_type": "markdown",
   "metadata": {},
   "source": [
    "## Collecting Demographic Information from the American Community Survey"
   ]
  },
  {
   "cell_type": "markdown",
   "metadata": {},
   "source": [
    "Now that the ZIP code data has been cleaned up, download American Community Survery information from data.census.gov and create a dataframe with entries corresponding to the ZIP codes of interest."
   ]
  },
  {
   "cell_type": "code",
   "execution_count": 11,
   "metadata": {},
   "outputs": [],
   "source": [
    "ACS_name = 'ACSDP5Y2018.DP05_data_with_overlays_2020-05-04T030452.csv' # name of downloaded file\n",
    "\n",
    "ACS_df = pd.read_csv(ACS_name, header = 1, low_memory = False) # skip first line of csv\n",
    "\n",
    "ACS_column_names = list(ACS_df.columns) # create list of ACS column names\n",
    "ACS_column_names_data = ACS_column_names[2:] # create list of ACS column names (data containing)\n",
    "\n",
    "# change the data-containing columns to numeric, and replace text with NaN\n",
    "ACS_df[ACS_column_names_data] = ACS_df[ACS_column_names_data].apply(pd.to_numeric, errors = 'coerce')\n",
    "\n",
    "ACS_Bay_df = pd.DataFrame(columns = ACS_column_names) # initialize blank dataframe\n",
    "\n",
    "for ZIP in bay_ZIPs['ZIP_code']:\n",
    "    temp_df = ACS_df[ACS_df['id'].str.contains(str(ZIP))] # look for ZIP codes from bay_ZIPs in ACS Survey\n",
    "    ACS_Bay_df = ACS_Bay_df.append(temp_df) # append to blank dataframe\n",
    "    \n",
    "ACS_Bay_df = ACS_Bay_df.assign(ZIP_code = np.nan)\n",
    "ACS_Bay_df['ZIP_code'] = ACS_Bay_df['Geographic Area Name'].str[5:11] # extract ZCTA information as a separate column"
   ]
  },
  {
   "cell_type": "markdown",
   "metadata": {},
   "source": [
    "The full dataframe from the ACS contains a large amount of information even when filtered just for the ZIP codes of interest, so now filter down to just columns of interest (primary age, sex and race related)."
   ]
  },
  {
   "cell_type": "code",
   "execution_count": 12,
   "metadata": {
    "scrolled": true
   },
   "outputs": [],
   "source": [
    "column_selection = ['ZIP_code','Estimate!!SEX AND AGE!!Total population','Estimate!!Total housing units',\n",
    "                   'Percent Estimate!!SEX AND AGE!!Total population!!Male',\n",
    "                    'Percent Estimate!!SEX AND AGE!!Total population!!Under 5 years']\n",
    "\n",
    "ages = [5,10,15,20,25,35,45,55,60,65,75] # start ages from ACS data age ranges\n",
    "\n",
    "for age in ages:\n",
    "    if age in [25,35,45,65,75]: # some age ranges are over a decade\n",
    "        age_range = 'Percent Estimate!!SEX AND AGE!!Total population!!{} to {} years'.format(age, age + 9)\n",
    "        column_selection.append(age_range)\n",
    "    elif age in [5,10,15,20,55,60]: # other age ranges are over 5 years\n",
    "        age_range = 'Percent Estimate!!SEX AND AGE!!Total population!!{} to {} years'.format(age, age + 4)\n",
    "        column_selection.append(age_range)\n",
    "    else:\n",
    "        pass\n",
    "\n",
    "column_selection.extend(['Percent Estimate!!SEX AND AGE!!Total population!!85 years and over',\n",
    "                        'Estimate!!SEX AND AGE!!Total population!!Median age (years)',\n",
    "                        'Percent Estimate!!HISPANIC OR LATINO AND RACE!!Total population!!Hispanic or Latino (of any race)'])\n",
    "    \n",
    "races = ['White','Black or African American','American Indian and Alaska Native','Asian',\n",
    "         'Native Hawaiian and Other Pacific Islander','Some other race']\n",
    "\n",
    "for race in races: # iterate over races specified above\n",
    "    race_name = 'Percent Estimate!!Race alone or in combination with one or more other races!!Total population!!{}'.format(race)\n",
    "    column_selection.append(race_name)"
   ]
  },
  {
   "cell_type": "markdown",
   "metadata": {},
   "source": [
    "Finally, rename the columns from their default values (which are too cumbersome) to easily interpretable values"
   ]
  },
  {
   "cell_type": "code",
   "execution_count": 13,
   "metadata": {},
   "outputs": [
    {
     "data": {
      "text/html": [
       "<div>\n",
       "<style scoped>\n",
       "    .dataframe tbody tr th:only-of-type {\n",
       "        vertical-align: middle;\n",
       "    }\n",
       "\n",
       "    .dataframe tbody tr th {\n",
       "        vertical-align: top;\n",
       "    }\n",
       "\n",
       "    .dataframe thead th {\n",
       "        text-align: right;\n",
       "    }\n",
       "</style>\n",
       "<table border=\"1\" class=\"dataframe\">\n",
       "  <thead>\n",
       "    <tr style=\"text-align: right;\">\n",
       "      <th></th>\n",
       "      <th>ZIP_code</th>\n",
       "      <th>population</th>\n",
       "      <th>housing_units</th>\n",
       "      <th>male_pct</th>\n",
       "      <th>under_5_yrs_pct</th>\n",
       "      <th>5_to_9_yrs_pct</th>\n",
       "      <th>10_to_14_yrs_pct</th>\n",
       "      <th>15_to_19_yrs_pct</th>\n",
       "      <th>20_to_24_yrs_pct</th>\n",
       "      <th>25_to_34_yrs_pct</th>\n",
       "      <th>35_to_44_yrs_pct</th>\n",
       "      <th>45_to_54_yrs_pct</th>\n",
       "      <th>55_to_59_yrs_pct</th>\n",
       "      <th>60_to_64_yrs_pct</th>\n",
       "      <th>65_to_74_yrs_pct</th>\n",
       "      <th>75_to_84_yrs_pct</th>\n",
       "      <th>85_and_over_pct</th>\n",
       "      <th>median_age</th>\n",
       "      <th>latino_pct</th>\n",
       "      <th>white_pct</th>\n",
       "      <th>black_pct</th>\n",
       "      <th>native_american_pct</th>\n",
       "      <th>asian_pct</th>\n",
       "      <th>pacific_islander_pct</th>\n",
       "      <th>other_pct</th>\n",
       "    </tr>\n",
       "  </thead>\n",
       "  <tbody>\n",
       "    <tr>\n",
       "      <th>0</th>\n",
       "      <td>94558</td>\n",
       "      <td>69142</td>\n",
       "      <td>27377</td>\n",
       "      <td>49.9</td>\n",
       "      <td>4.9</td>\n",
       "      <td>5.6</td>\n",
       "      <td>6.9</td>\n",
       "      <td>6.5</td>\n",
       "      <td>5.8</td>\n",
       "      <td>12.3</td>\n",
       "      <td>12.4</td>\n",
       "      <td>13.6</td>\n",
       "      <td>7.1</td>\n",
       "      <td>6.8</td>\n",
       "      <td>10.3</td>\n",
       "      <td>5.3</td>\n",
       "      <td>2.6</td>\n",
       "      <td>41.9</td>\n",
       "      <td>35.3</td>\n",
       "      <td>81.1</td>\n",
       "      <td>1.1</td>\n",
       "      <td>2.3</td>\n",
       "      <td>4.4</td>\n",
       "      <td>0.4</td>\n",
       "      <td>14.8</td>\n",
       "    </tr>\n",
       "    <tr>\n",
       "      <th>1</th>\n",
       "      <td>94533</td>\n",
       "      <td>75635</td>\n",
       "      <td>24922</td>\n",
       "      <td>49.6</td>\n",
       "      <td>7.1</td>\n",
       "      <td>7.4</td>\n",
       "      <td>6.8</td>\n",
       "      <td>6.9</td>\n",
       "      <td>7.2</td>\n",
       "      <td>16.1</td>\n",
       "      <td>12.5</td>\n",
       "      <td>13.4</td>\n",
       "      <td>5.5</td>\n",
       "      <td>5.3</td>\n",
       "      <td>6.7</td>\n",
       "      <td>3.6</td>\n",
       "      <td>1.5</td>\n",
       "      <td>34.2</td>\n",
       "      <td>36.3</td>\n",
       "      <td>52.4</td>\n",
       "      <td>19.9</td>\n",
       "      <td>2.1</td>\n",
       "      <td>19.1</td>\n",
       "      <td>2.1</td>\n",
       "      <td>13.6</td>\n",
       "    </tr>\n",
       "    <tr>\n",
       "      <th>2</th>\n",
       "      <td>95620</td>\n",
       "      <td>21854</td>\n",
       "      <td>7028</td>\n",
       "      <td>50.9</td>\n",
       "      <td>5.8</td>\n",
       "      <td>7.8</td>\n",
       "      <td>9.0</td>\n",
       "      <td>6.8</td>\n",
       "      <td>8.0</td>\n",
       "      <td>13.5</td>\n",
       "      <td>12.9</td>\n",
       "      <td>12.0</td>\n",
       "      <td>5.9</td>\n",
       "      <td>5.4</td>\n",
       "      <td>6.9</td>\n",
       "      <td>4.8</td>\n",
       "      <td>1.1</td>\n",
       "      <td>34.5</td>\n",
       "      <td>41.2</td>\n",
       "      <td>75.5</td>\n",
       "      <td>3.0</td>\n",
       "      <td>2.1</td>\n",
       "      <td>6.5</td>\n",
       "      <td>1.9</td>\n",
       "      <td>18.8</td>\n",
       "    </tr>\n",
       "    <tr>\n",
       "      <th>3</th>\n",
       "      <td>95476</td>\n",
       "      <td>36792</td>\n",
       "      <td>17420</td>\n",
       "      <td>49.9</td>\n",
       "      <td>4.9</td>\n",
       "      <td>4.1</td>\n",
       "      <td>6.0</td>\n",
       "      <td>5.2</td>\n",
       "      <td>4.6</td>\n",
       "      <td>9.3</td>\n",
       "      <td>11.7</td>\n",
       "      <td>12.9</td>\n",
       "      <td>7.1</td>\n",
       "      <td>10.0</td>\n",
       "      <td>12.9</td>\n",
       "      <td>7.7</td>\n",
       "      <td>3.7</td>\n",
       "      <td>48.9</td>\n",
       "      <td>27.1</td>\n",
       "      <td>83.3</td>\n",
       "      <td>1.6</td>\n",
       "      <td>1.1</td>\n",
       "      <td>3.4</td>\n",
       "      <td>0.6</td>\n",
       "      <td>14.5</td>\n",
       "    </tr>\n",
       "    <tr>\n",
       "      <th>4</th>\n",
       "      <td>94559</td>\n",
       "      <td>27523</td>\n",
       "      <td>11070</td>\n",
       "      <td>51.1</td>\n",
       "      <td>6.4</td>\n",
       "      <td>5.1</td>\n",
       "      <td>7.0</td>\n",
       "      <td>5.4</td>\n",
       "      <td>6.4</td>\n",
       "      <td>14.7</td>\n",
       "      <td>13.4</td>\n",
       "      <td>13.1</td>\n",
       "      <td>6.4</td>\n",
       "      <td>6.4</td>\n",
       "      <td>9.1</td>\n",
       "      <td>4.4</td>\n",
       "      <td>2.1</td>\n",
       "      <td>38.5</td>\n",
       "      <td>40.1</td>\n",
       "      <td>81.9</td>\n",
       "      <td>1.8</td>\n",
       "      <td>2.1</td>\n",
       "      <td>3.4</td>\n",
       "      <td>0.6</td>\n",
       "      <td>13.8</td>\n",
       "    </tr>\n",
       "  </tbody>\n",
       "</table>\n",
       "</div>"
      ],
      "text/plain": [
       "  ZIP_code population housing_units  male_pct  under_5_yrs_pct  \\\n",
       "0    94558      69142         27377      49.9              4.9   \n",
       "1    94533      75635         24922      49.6              7.1   \n",
       "2    95620      21854          7028      50.9              5.8   \n",
       "3    95476      36792         17420      49.9              4.9   \n",
       "4    94559      27523         11070      51.1              6.4   \n",
       "\n",
       "   5_to_9_yrs_pct  10_to_14_yrs_pct  15_to_19_yrs_pct  20_to_24_yrs_pct  \\\n",
       "0             5.6               6.9               6.5               5.8   \n",
       "1             7.4               6.8               6.9               7.2   \n",
       "2             7.8               9.0               6.8               8.0   \n",
       "3             4.1               6.0               5.2               4.6   \n",
       "4             5.1               7.0               5.4               6.4   \n",
       "\n",
       "   25_to_34_yrs_pct  35_to_44_yrs_pct  45_to_54_yrs_pct  55_to_59_yrs_pct  \\\n",
       "0              12.3              12.4              13.6               7.1   \n",
       "1              16.1              12.5              13.4               5.5   \n",
       "2              13.5              12.9              12.0               5.9   \n",
       "3               9.3              11.7              12.9               7.1   \n",
       "4              14.7              13.4              13.1               6.4   \n",
       "\n",
       "   60_to_64_yrs_pct  65_to_74_yrs_pct  75_to_84_yrs_pct  85_and_over_pct  \\\n",
       "0               6.8              10.3               5.3              2.6   \n",
       "1               5.3               6.7               3.6              1.5   \n",
       "2               5.4               6.9               4.8              1.1   \n",
       "3              10.0              12.9               7.7              3.7   \n",
       "4               6.4               9.1               4.4              2.1   \n",
       "\n",
       "   median_age  latino_pct  white_pct  black_pct  native_american_pct  \\\n",
       "0        41.9        35.3       81.1        1.1                  2.3   \n",
       "1        34.2        36.3       52.4       19.9                  2.1   \n",
       "2        34.5        41.2       75.5        3.0                  2.1   \n",
       "3        48.9        27.1       83.3        1.6                  1.1   \n",
       "4        38.5        40.1       81.9        1.8                  2.1   \n",
       "\n",
       "   asian_pct  pacific_islander_pct  other_pct  \n",
       "0        4.4                   0.4       14.8  \n",
       "1       19.1                   2.1       13.6  \n",
       "2        6.5                   1.9       18.8  \n",
       "3        3.4                   0.6       14.5  \n",
       "4        3.4                   0.6       13.8  "
      ]
     },
     "execution_count": 13,
     "metadata": {},
     "output_type": "execute_result"
    }
   ],
   "source": [
    "selected_ACS_Bay = ACS_Bay_df[column_selection] # create dataframe based on desired columns\n",
    "\n",
    "selected_ACS_Bay = selected_ACS_Bay.rename( # rename columns as follows\n",
    "    columns = {'Estimate!!SEX AND AGE!!Total population':'population',\n",
    "               'Estimate!!Total housing units':'housing_units',\n",
    "               'Percent Estimate!!SEX AND AGE!!Total population!!Male':'male_pct',\n",
    "               'Percent Estimate!!SEX AND AGE!!Total population!!Under 5 years':'under_5_yrs_pct',\n",
    "               'Percent Estimate!!SEX AND AGE!!Total population!!85 years and over':'85_and_over_pct',\n",
    "               'Estimate!!SEX AND AGE!!Total population!!Median age (years)':'median_age',\n",
    "               'Percent Estimate!!HISPANIC OR LATINO AND RACE!!Total population!!Hispanic or Latino (of any race)':'latino_pct'\n",
    "              })\n",
    "\n",
    "for age in ages:\n",
    "    if age in [25,35,45,65,75]: # some age ranges are over a decade\n",
    "        selected_ACS_Bay = selected_ACS_Bay.rename(columns = {\n",
    "            'Percent Estimate!!SEX AND AGE!!Total population!!{} to {} years'.format(age, age + 9):\n",
    "            '{}_to_{}_yrs_pct'.format(age, age + 9)})\n",
    "    \n",
    "    elif age in [5,10,15,20,55,60]: # other age ranges are over 5 years\n",
    "        selected_ACS_Bay = selected_ACS_Bay.rename(columns = {\n",
    "            'Percent Estimate!!SEX AND AGE!!Total population!!{} to {} years'.format(age, age + 4):\n",
    "            '{}_to_{}_yrs_pct'.format(age, age + 4)})\n",
    "\n",
    "races_labels = ['white','black','native_american','asian','pacific_islander','other'] # abbreviated race names\n",
    "        \n",
    "for race, race_label in zip(races,races_labels):\n",
    "    selected_ACS_Bay = selected_ACS_Bay.rename(columns = {\n",
    "        'Percent Estimate!!Race alone or in combination with one or more other races!!Total population!!{}'.format(race):\n",
    "        '{}_pct'.format(race_label)})\n",
    "\n",
    "selected_ACS_Bay.reset_index(inplace = True, drop = True) # reset index and drop old index from dataframe\n",
    "selected_ACS_Bay.head()"
   ]
  },
  {
   "cell_type": "markdown",
   "metadata": {},
   "source": [
    "## Gathering Financial Venue Information from Foursequare"
   ]
  },
  {
   "cell_type": "markdown",
   "metadata": {},
   "source": [
    "Initialize Foursquare API details"
   ]
  },
  {
   "cell_type": "code",
   "execution_count": 14,
   "metadata": {},
   "outputs": [],
   "source": [
    "client_ID = '0FDZUBQYVGXXNOOVIZDJVX05AVEJB1ABJSNRV4452VDR42QJ'\n",
    "client_secret = 'YPTROAKV2NYHPKI0Q5BUFTQNEBXTGYPRKLU3G24ZQBRY4TZK'\n",
    "version = '20200501' # Foursquare API version"
   ]
  },
  {
   "cell_type": "markdown",
   "metadata": {},
   "source": [
    "As we only want financial categories of venue, specify them into a dictionary and then create a text string that can be used in the Foursquare API. Note that this will also return venues with a secondary classification as financial, so we will also need to do a second stage of filtering after getting the results from Foursquare. "
   ]
  },
  {
   "cell_type": "code",
   "execution_count": 15,
   "metadata": {},
   "outputs": [
    {
     "data": {
      "text/plain": [
       "'52f2ab2ebcbc57f1066b8b56,4bf58dd8d48988d10a951735,52f2ab2ebcbc57f1066b8b2d,5032850891d4c4b30a586d62,5744ccdfe4b0c0459246b4be,503287a291d4c4b30a586d65,58daa1558bbb0b01f18ec1f1'"
      ]
     },
     "execution_count": 15,
     "metadata": {},
     "output_type": "execute_result"
    }
   ],
   "source": [
    "location_categories = {'ATM':'52f2ab2ebcbc57f1066b8b56',\n",
    "                       'bank':'4bf58dd8d48988d10a951735',\n",
    "                       'check_cashing_service':'52f2ab2ebcbc57f1066b8b2d',\n",
    "                       'credit_union':'5032850891d4c4b30a586d62',\n",
    "                       'currency_exchange':'5744ccdfe4b0c0459246b4be',\n",
    "                       'financial_legal_service':'503287a291d4c4b30a586d65',\n",
    "                       'insurance_office':'58daa1558bbb0b01f18ec1f1'}\n",
    "\n",
    "location_categories_list = list(location_categories.values())\n",
    "\n",
    "location_categories_string = ','.join(location_categories_list)\n",
    "location_categories_string"
   ]
  },
  {
   "cell_type": "code",
   "execution_count": 16,
   "metadata": {},
   "outputs": [],
   "source": [
    "SW_corners = []\n",
    "NE_corners = []\n",
    "\n",
    "for y in range(precision-1): # iterate through latitudes, (precision - 1) times\n",
    "    \n",
    "    for x in range(precision-1): # iterate through longitudes, (precision - 1) times\n",
    "        SW_corner = ','.join([str(lat_linspace[y]),str(long_linspace[x])]) # foursquare format (latitude, longitude)\n",
    "        NE_corner = ','.join([str(lat_linspace[y+1]),str(long_linspace[x+1])]) # foursquare format (latitude, longitude)\n",
    "        SW_corners.append(SW_corner)\n",
    "        NE_corners.append(NE_corner)"
   ]
  },
  {
   "cell_type": "code",
   "execution_count": 17,
   "metadata": {},
   "outputs": [
    {
     "data": {
      "text/plain": [
       "780"
      ]
     },
     "execution_count": 17,
     "metadata": {},
     "output_type": "execute_result"
    }
   ],
   "source": [
    "financial_locations = []\n",
    "url_2 = 'https://api.foursquare.com/v2/venues/explore?&client_id={}&client_secret={}&v={}&intent={}&sw={}&ne={}&categoryId={}&limit={}'\n",
    "    \n",
    "for i, SW, NE in zip(range(len(SW_corners)),SW_corners,NE_corners):\n",
    "    \n",
    "    try:  \n",
    "        intent = 'browse'\n",
    "        sw = SW\n",
    "        ne = NE\n",
    "        categoryID = location_categories_string\n",
    "        limit = 5\n",
    "    \n",
    "        url_2_formatted = url_2.format(client_ID, client_secret, version, intent, sw, ne, categoryID, limit)\n",
    "    \n",
    "        search = requests.get(url_2_formatted).json()['response']['groups'][0]['items']\n",
    "    \n",
    "        for v in search:\n",
    "            try: \n",
    "                financial_locations.append((\n",
    "                    i,\n",
    "                    v['venue']['id'],\n",
    "                    v['venue']['name'], \n",
    "                    v['venue']['location']['lat'],\n",
    "                    v['venue']['location']['lng'],\n",
    "                    v['venue']['location']['postalCode'],\n",
    "                    v['venue']['categories'][0]['id'],\n",
    "                    v['venue']['categories'][0]['name']))\n",
    "        \n",
    "            except:\n",
    "                pass\n",
    "        \n",
    "    except:\n",
    "        pass\n",
    "        \n",
    "location_col_names = ['square_number','venue_ID','venue_name','latitude','longitude',\n",
    "                      'ZIP_code','category_ID','category_name']\n",
    "    \n",
    "locations = pd.DataFrame(financial_locations, columns = location_col_names)\n",
    "len(locations)"
   ]
  },
  {
   "cell_type": "code",
   "execution_count": 18,
   "metadata": {},
   "outputs": [
    {
     "data": {
      "text/html": [
       "<div>\n",
       "<style scoped>\n",
       "    .dataframe tbody tr th:only-of-type {\n",
       "        vertical-align: middle;\n",
       "    }\n",
       "\n",
       "    .dataframe tbody tr th {\n",
       "        vertical-align: top;\n",
       "    }\n",
       "\n",
       "    .dataframe thead th {\n",
       "        text-align: right;\n",
       "    }\n",
       "</style>\n",
       "<table border=\"1\" class=\"dataframe\">\n",
       "  <thead>\n",
       "    <tr style=\"text-align: right;\">\n",
       "      <th></th>\n",
       "      <th>square_number</th>\n",
       "      <th>venue_ID</th>\n",
       "      <th>venue_name</th>\n",
       "      <th>latitude</th>\n",
       "      <th>longitude</th>\n",
       "      <th>ZIP_code</th>\n",
       "      <th>category_ID</th>\n",
       "      <th>category_name</th>\n",
       "    </tr>\n",
       "  </thead>\n",
       "  <tbody>\n",
       "    <tr>\n",
       "      <th>0</th>\n",
       "      <td>10</td>\n",
       "      <td>5211b5912fc6de004421fb33</td>\n",
       "      <td>Richard G. Burt</td>\n",
       "      <td>37.331676</td>\n",
       "      <td>-122.221613</td>\n",
       "      <td>95113</td>\n",
       "      <td>503287a291d4c4b30a586d65</td>\n",
       "      <td>Financial or Legal Service</td>\n",
       "    </tr>\n",
       "    <tr>\n",
       "      <th>2</th>\n",
       "      <td>15</td>\n",
       "      <td>4b3fbad2f964a5206bad25e3</td>\n",
       "      <td>Wells Fargo - Homestead Crossing</td>\n",
       "      <td>37.337180</td>\n",
       "      <td>-122.066818</td>\n",
       "      <td>95014</td>\n",
       "      <td>4bf58dd8d48988d10a951735</td>\n",
       "      <td>Bank</td>\n",
       "    </tr>\n",
       "    <tr>\n",
       "      <th>3</th>\n",
       "      <td>15</td>\n",
       "      <td>51bbd0f7498ea9b7a0c458ea</td>\n",
       "      <td>Edward Jones - Financial Advisor: Todd Bergstrom</td>\n",
       "      <td>37.322694</td>\n",
       "      <td>-122.054243</td>\n",
       "      <td>95014</td>\n",
       "      <td>503287a291d4c4b30a586d65</td>\n",
       "      <td>Financial or Legal Service</td>\n",
       "    </tr>\n",
       "    <tr>\n",
       "      <th>4</th>\n",
       "      <td>15</td>\n",
       "      <td>505898e75d24dabaa9bc56dd</td>\n",
       "      <td>Coinstar</td>\n",
       "      <td>37.341700</td>\n",
       "      <td>-122.072300</td>\n",
       "      <td>94024</td>\n",
       "      <td>4bf58dd8d48988d10a951735</td>\n",
       "      <td>Bank</td>\n",
       "    </tr>\n",
       "    <tr>\n",
       "      <th>5</th>\n",
       "      <td>15</td>\n",
       "      <td>53a0a24c498ee670915ca8c6</td>\n",
       "      <td>Edward Jones - Financial Advisor: Rafe Ann Du ...</td>\n",
       "      <td>37.349272</td>\n",
       "      <td>-122.050854</td>\n",
       "      <td>94087</td>\n",
       "      <td>503287a291d4c4b30a586d65</td>\n",
       "      <td>Financial or Legal Service</td>\n",
       "    </tr>\n",
       "  </tbody>\n",
       "</table>\n",
       "</div>"
      ],
      "text/plain": [
       "   square_number                  venue_ID  \\\n",
       "0             10  5211b5912fc6de004421fb33   \n",
       "2             15  4b3fbad2f964a5206bad25e3   \n",
       "3             15  51bbd0f7498ea9b7a0c458ea   \n",
       "4             15  505898e75d24dabaa9bc56dd   \n",
       "5             15  53a0a24c498ee670915ca8c6   \n",
       "\n",
       "                                          venue_name   latitude   longitude  \\\n",
       "0                                    Richard G. Burt  37.331676 -122.221613   \n",
       "2                   Wells Fargo - Homestead Crossing  37.337180 -122.066818   \n",
       "3   Edward Jones - Financial Advisor: Todd Bergstrom  37.322694 -122.054243   \n",
       "4                                           Coinstar  37.341700 -122.072300   \n",
       "5  Edward Jones - Financial Advisor: Rafe Ann Du ...  37.349272 -122.050854   \n",
       "\n",
       "  ZIP_code               category_ID               category_name  \n",
       "0    95113  503287a291d4c4b30a586d65  Financial or Legal Service  \n",
       "2    95014  4bf58dd8d48988d10a951735                        Bank  \n",
       "3    95014  503287a291d4c4b30a586d65  Financial or Legal Service  \n",
       "4    94024  4bf58dd8d48988d10a951735                        Bank  \n",
       "5    94087  503287a291d4c4b30a586d65  Financial or Legal Service  "
      ]
     },
     "execution_count": 18,
     "metadata": {},
     "output_type": "execute_result"
    }
   ],
   "source": [
    "primary_financial = locations[locations['category_ID'].isin(location_categories_list)]\n",
    "# primary_financial = primary_financial.assign(rating = np.nan)\n",
    "# primary_financial.set_index('venue_ID', inplace = True)\n",
    "primary_financial.head()"
   ]
  },
  {
   "cell_type": "code",
   "execution_count": null,
   "metadata": {},
   "outputs": [],
   "source": []
  },
  {
   "cell_type": "code",
   "execution_count": null,
   "metadata": {},
   "outputs": [],
   "source": []
  },
  {
   "cell_type": "code",
   "execution_count": null,
   "metadata": {},
   "outputs": [],
   "source": []
  },
  {
   "cell_type": "code",
   "execution_count": null,
   "metadata": {},
   "outputs": [],
   "source": []
  },
  {
   "cell_type": "code",
   "execution_count": null,
   "metadata": {},
   "outputs": [],
   "source": []
  },
  {
   "cell_type": "code",
   "execution_count": null,
   "metadata": {},
   "outputs": [],
   "source": []
  },
  {
   "cell_type": "code",
   "execution_count": null,
   "metadata": {},
   "outputs": [],
   "source": []
  },
  {
   "cell_type": "code",
   "execution_count": null,
   "metadata": {},
   "outputs": [],
   "source": []
  },
  {
   "cell_type": "markdown",
   "metadata": {},
   "source": [
    "## Visualisation of Number of Results Returned by Foursquare Grid-Search"
   ]
  },
  {
   "cell_type": "markdown",
   "metadata": {},
   "source": [
    "Create a feature collection that folium can then map, by iterating through the individual sub-divisions and specifying the coordinates with respect to latitude and longitude."
   ]
  },
  {
   "cell_type": "code",
   "execution_count": 19,
   "metadata": {},
   "outputs": [],
   "source": [
    "feature_list = []\n",
    "\n",
    "for y in range(precision-1): # iterate through latitudes, (precision - 1) times\n",
    "    \n",
    "    for x in range(precision-1): # iterate through longitudes, (precision - 1) times\n",
    "        SW_coord = (long_linspace[x],lat_linspace[y])\n",
    "        NW_coord = (long_linspace[x],lat_linspace[y+1])\n",
    "        NE_coord = (long_linspace[x+1],lat_linspace[y+1])\n",
    "        SE_coord = (long_linspace[x+1],lat_linspace[y])\n",
    "        feature_coords = Feature(geometry = Polygon([[SW_coord,NW_coord,NE_coord,SE_coord,SW_coord]]))\n",
    "        feature_list.append(feature_coords)\n",
    "        \n",
    "feature_collection = FeatureCollection(feature_list)\n",
    "\n",
    "for i in range((precision - 1) ** 2):\n",
    "    feature_collection['features'][i]['properties']['square_number'] = i"
   ]
  },
  {
   "cell_type": "markdown",
   "metadata": {},
   "source": [
    "Summarise the number of samples in each square by referring to the dataframe 'primary_financial'."
   ]
  },
  {
   "cell_type": "code",
   "execution_count": 20,
   "metadata": {},
   "outputs": [],
   "source": [
    "samples = pd.DataFrame(columns = ['square_no','count'])\n",
    "\n",
    "for i in range((precision - 1) ** 2):\n",
    "    samples.loc[i] = [i,(primary_financial['square_number'] == i).sum()]"
   ]
  },
  {
   "cell_type": "markdown",
   "metadata": {},
   "source": [
    "Plot a choropleth map with each square showing the number of samples collected from Foursquare. As expected, the greatest density occurs in population centres (e.g. San Francisco, Richmond, Oakland etc.)"
   ]
  },
  {
   "cell_type": "code",
   "execution_count": 21,
   "metadata": {},
   "outputs": [
    {
     "data": {
      "text/html": [
       "<div style=\"width:100%;\"><div style=\"position:relative;width:100%;height:0;padding-bottom:60%;\"><iframe src=\"about:blank\" style=\"position:absolute;width:100%;height:100%;left:0;top:0;border:none !important;\" data-html=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 onload=\"this.contentDocument.open();this.contentDocument.write(atob(this.getAttribute('data-html')));this.contentDocument.close();\" allowfullscreen webkitallowfullscreen mozallowfullscreen></iframe></div></div>"
      ],
      "text/plain": [
       "<folium.folium.Map at 0x122ee7290>"
      ]
     },
     "execution_count": 21,
     "metadata": {},
     "output_type": "execute_result"
    }
   ],
   "source": [
    "latitude = lat_linspace[int((precision - 1) / 2)] # initialise on mid-point latitude\n",
    "longitude = long_linspace[int((precision - 1) / 2)] # initialise on mid-point longitude\n",
    "\n",
    "Bay_map = folium.Map(location=[latitude,longitude], tiles = 'OpenStreetMap', zoom_start = 9.5)\n",
    "\n",
    "folium.Choropleth(\n",
    "    geo_data = feature_collection,\n",
    "    data = samples,\n",
    "    columns = ['square_no','count'],\n",
    "    key_on = 'feature.properties.square_number',\n",
    "    fill_color = 'YlGn',\n",
    "    fill_opacity = 0.7, \n",
    "    line_opacity = 0.2).add_to(Bay_map)\n",
    "\n",
    "# display map\n",
    "Bay_map"
   ]
  },
  {
   "cell_type": "code",
   "execution_count": null,
   "metadata": {
    "scrolled": true
   },
   "outputs": [],
   "source": []
  },
  {
   "cell_type": "markdown",
   "metadata": {},
   "source": [
    "Income tax info from https://www.irs.gov/statistics/soi-tax-stats-individual-income-tax-statistics-2017-zip-code-data-soi"
   ]
  },
  {
   "cell_type": "code",
   "execution_count": 22,
   "metadata": {},
   "outputs": [],
   "source": [
    "# !curl https://www.irs.gov/pub/irs-soi/17zp05ca.xlsx -o '2017_income_tax.xlsx'"
   ]
  },
  {
   "cell_type": "code",
   "execution_count": null,
   "metadata": {},
   "outputs": [],
   "source": []
  },
  {
   "cell_type": "code",
   "execution_count": null,
   "metadata": {},
   "outputs": [],
   "source": []
  },
  {
   "cell_type": "markdown",
   "metadata": {},
   "source": [
    "# Results"
   ]
  },
  {
   "cell_type": "code",
   "execution_count": null,
   "metadata": {},
   "outputs": [],
   "source": []
  },
  {
   "cell_type": "markdown",
   "metadata": {},
   "source": [
    "# Discussion"
   ]
  },
  {
   "cell_type": "code",
   "execution_count": null,
   "metadata": {},
   "outputs": [],
   "source": []
  },
  {
   "cell_type": "markdown",
   "metadata": {},
   "source": [
    "# Conclusion"
   ]
  },
  {
   "cell_type": "code",
   "execution_count": null,
   "metadata": {},
   "outputs": [],
   "source": []
  },
  {
   "cell_type": "code",
   "execution_count": 23,
   "metadata": {},
   "outputs": [],
   "source": [
    "# old_code\n",
    "\n",
    "# rating search\n",
    "\n",
    "# url_3 = 'https://api.foursquare.com/v2/venues/{}?&client_id={}&client_secret={}&v={}'\n",
    "\n",
    "# for ID in primary_financial.index:\n",
    "#     venue_ID = ID\n",
    "#     url_3_formatted = url_3.format(venue_ID, client_ID, client_secret, version)\n",
    "\n",
    "#     try:\n",
    "#         rating_search = requests.get(url_3_formatted).json()['response']['venue']['rating']\n",
    "#         primary_financial.at[ID,'rating'] = rating_search\n",
    "        \n",
    "#     except:\n",
    "#         pass\n",
    "\n",
    "\n",
    "# old choropleth\n",
    "\n",
    "# latitude = 37.77\n",
    "# longitude = -122.42\n",
    "\n",
    "# bay_map = folium.Map(location=[latitude, longitude], zoom_start=12)\n",
    "\n",
    "# bay_map.choropleth(\n",
    "#     geo_data = geojson_data,\n",
    "#     data = bay_ZIPs,\n",
    "#     columns = ['ZIP_code','area'],\n",
    "#     key_on = 'feature.properties.zip',\n",
    "#     fill_color = 'YlOrRd',\n",
    "#     fill_opacity = 0.7, \n",
    "#     line_opacity = 0.2)\n",
    "\n",
    "# # display map\n",
    "# bay_map"
   ]
  },
  {
   "cell_type": "markdown",
   "metadata": {},
   "source": [
    "To dos:\n",
    "\n",
    "- standardize the ACS data (so that it doesn't have magnitude issues)\n",
    "- collect information on number of bank branches / other financial services per ZIP code\n",
    "- add in income tax information\n",
    "- merge together the ZIP codes with the ACS data and foursquare data\n",
    "- Run clustering or ML analysis on result (+ logistic)"
   ]
  },
  {
   "cell_type": "markdown",
   "metadata": {},
   "source": [
    "# Sources"
   ]
  },
  {
   "cell_type": "markdown",
   "metadata": {},
   "source": [
    "https://www.americanbanker.com/news/digital-banking-is-surging-during-the-pandemic-will-it-last\n",
    "\n",
    "https://www.fhfa.gov/DataTools/Downloads/Pages/House-Price-Index-Datasets.aspx\n",
    "\n",
    "https://www.irs.gov/statistics/soi-tax-stats-individual-income-tax-statistics-2017-zip-code-data-soi\n",
    "\n",
    "https://www.udsmapper.org/zcta-crosswalk.cfm\n",
    "\n",
    "https://data.census.gov/cedsci/table?q=All%20ZCTAs%20in%20United%20States&tid=ACSDP5Y2018.DP05&hidePreview=true&vintage=2018&layer=VT_2018_860_00_PY_D1&cid=DP05_0001E&g=0100000US.860000\n",
    "\n",
    "https://developer.foursquare.com/docs/build-with-foursquare/categories/\n"
   ]
  },
  {
   "cell_type": "code",
   "execution_count": 24,
   "metadata": {},
   "outputs": [],
   "source": [
    "# !curl https://data.sfgov.org/api/geospatial/u5j3-svi6?method=export&format=GeoJSON -o 'bayarea.geojson'"
   ]
  }
 ],
 "metadata": {
  "kernelspec": {
   "display_name": "Python 3",
   "language": "python",
   "name": "python3"
  },
  "language_info": {
   "codemirror_mode": {
    "name": "ipython",
    "version": 3
   },
   "file_extension": ".py",
   "mimetype": "text/x-python",
   "name": "python",
   "nbconvert_exporter": "python",
   "pygments_lexer": "ipython3",
   "version": "3.7.7"
  }
 },
 "nbformat": 4,
 "nbformat_minor": 4
}
